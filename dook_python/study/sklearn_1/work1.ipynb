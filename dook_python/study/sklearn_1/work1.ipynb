{
  "cells": [
    {
      "cell_type": "code",
      "execution_count": 7,
      "metadata": {
        "collapsed": true,
        "pycharm": {
          "is_executing": false,
          "name": "#%% 学习和预测\n"
        }
      },
      "outputs": [
        {
          "name": "stdout",
          "text": [
            "{\u0027images\u0027: array([[[ 0.,  0.,  5., ...,  1.,  0.,  0.],\n        [ 0.,  0., 13., ..., 15.,  5.,  0.],\n        [ 0.,  3., 15., ..., 11.,  8.,  0.],\n        ...,\n        [ 0.,  4., 11., ..., 12.,  7.,  0.],\n        [ 0.,  2., 14., ..., 12.,  0.,  0.],\n        [ 0.,  0.,  6., ...,  0.,  0.,  0.]],\n\n       [[ 0.,  0.,  0., ...,  5.,  0.,  0.],\n        [ 0.,  0.,  0., ...,  9.,  0.,  0.],\n        [ 0.,  0.,  3., ...,  6.,  0.,  0.],\n        ...,\n        [ 0.,  0.,  1., ...,  6.,  0.,  0.],\n        [ 0.,  0.,  1., ...,  6.,  0.,  0.],\n        [ 0.,  0.,  0., ..., 10.,  0.,  0.]],\n\n       [[ 0.,  0.,  0., ..., 12.,  0.,  0.],\n        [ 0.,  0.,  3., ..., 14.,  0.,  0.],\n        [ 0.,  0.,  8., ..., 16.,  0.,  0.],\n        ...,\n        [ 0.,  9., 16., ...,  0.,  0.,  0.],\n        [ 0.,  3., 13., ..., 11.,  5.,  0.],\n        [ 0.,  0.,  0., ..., 16.,  9.,  0.]],\n\n       ...,\n\n       [[ 0.,  0.,  1., ...,  1.,  0.,  0.],\n        [ 0.,  0., 13., ...,  2.,  1.,  0.],\n        [ 0.,  0., 16., ..., 16.,  5.,  0.],\n        ...,\n        [ 0.,  0., 16., ..., 15.,  0.,  0.],\n        [ 0.,  0., 15., ..., 16.,  0.,  0.],\n        [ 0.,  0.,  2., ...,  6.,  0.,  0.]],\n\n       [[ 0.,  0.,  2., ...,  0.,  0.,  0.],\n        [ 0.,  0., 14., ..., 15.,  1.,  0.],\n        [ 0.,  4., 16., ..., 16.,  7.,  0.],\n        ...,\n        [ 0.,  0.,  0., ..., 16.,  2.,  0.],\n        [ 0.,  0.,  4., ..., 16.,  2.,  0.],\n        [ 0.,  0.,  5., ..., 12.,  0.,  0.]],\n\n       [[ 0.,  0., 10., ...,  1.,  0.,  0.],\n        [ 0.,  2., 16., ...,  1.,  0.,  0.],\n        [ 0.,  0., 15., ..., 15.,  0.,  0.],\n        ...,\n        [ 0.,  4., 16., ..., 16.,  6.,  0.],\n        [ 0.,  8., 16., ..., 16.,  8.,  0.],\n        [ 0.,  1.,  8., ..., 12.,  1.,  0.]]]), \u0027data\u0027: array([[ 0.,  0.,  5., ...,  0.,  0.,  0.],\n       [ 0.,  0.,  0., ..., 10.,  0.,  0.],\n       [ 0.,  0.,  0., ..., 16.,  9.,  0.],\n       ...,\n       [ 0.,  0.,  1., ...,  6.,  0.,  0.],\n       [ 0.,  0.,  2., ..., 12.,  0.,  0.],\n       [ 0.,  0., 10., ..., 12.,  1.,  0.]]), \u0027target_names\u0027: array([0, 1, 2, 3, 4, 5, 6, 7, 8, 9]), \u0027DESCR\u0027: \".. _digits_dataset:\\n\\nOptical recognition of handwritten digits dataset\\n--------------------------------------------------\\n\\n**Data Set Characteristics:**\\n\\n    :Number of Instances: 5620\\n    :Number of Attributes: 64\\n    :Attribute Information: 8x8 image of integer pixels in the range 0..16.\\n    :Missing Attribute Values: None\\n    :Creator: E. Alpaydin (alpaydin \u0027@\u0027 boun.edu.tr)\\n    :Date: July; 1998\\n\\nThis is a copy of the test set of the UCI ML hand-written digits datasets\\nhttp://archive.ics.uci.edu/ml/datasets/Optical+Recognition+of+Handwritten+Digits\\n\\nThe data set contains images of hand-written digits: 10 classes where\\neach class refers to a digit.\\n\\nPreprocessing programs made available by NIST were used to extract\\nnormalized bitmaps of handwritten digits from a preprinted form. From a\\ntotal of 43 people, 30 contributed to the training set and different 13\\nto the test set. 32x32 bitmaps are divided into nonoverlapping blocks of\\n4x4 and the number of on pixels are counted in each block. This generates\\nan input matrix of 8x8 where each element is an integer in the range\\n0..16. This reduces dimensionality and gives invariance to small\\ndistortions.\\n\\nFor info on NIST preprocessing routines, see M. D. Garris, J. L. Blue, G.\\nT. Candela, D. L. Dimmick, J. Geist, P. J. Grother, S. A. Janet, and C.\\nL. Wilson, NIST Form-Based Handprint Recognition System, NISTIR 5469,\\n1994.\\n\\n.. topic:: References\\n\\n  - C. Kaynak (1995) Methods of Combining Multiple Classifiers and Their\\n    Applications to Handwritten Digit Recognition, MSc Thesis, Institute of\\n    Graduate Studies in Science and Engineering, Bogazici University.\\n  - E. Alpaydin, C. Kaynak (1998) Cascading Classifiers, Kybernetika.\\n  - Ken Tang and Ponnuthurai N. Suganthan and Xi Yao and A. Kai Qin.\\n    Linear dimensionalityreduction using relevance weighted LDA. School of\\n    Electrical and Electronic Engineering Nanyang Technological University.\\n    2005.\\n  - Claudio Gentile. A New Approximate Maximal Margin Classification\\n    Algorithm. NIPS. 2000.\", \u0027target\u0027: array([0, 1, 2, ..., 8, 9, 8])}\n[8]\n"
          ],
          "output_type": "stream"
        }
      ],
      "source": "from sklearn import datasets\niris \u003d datasets.load_iris()\ndigits \u003d datasets.load_digits()\nprint digits\n\nfrom sklearn import svm\nclf \u003d svm.SVC(gamma\u003d0.001, C\u003d100.)\nclf.fit(digits.data[:-1], digits.target[:-1])\ns1\u003dclf.predict(digits.data[-1:])\nprint s1\n\n"
    },
    {
      "cell_type": "code",
      "execution_count": 1,
      "outputs": [
        {
          "name": "stdout",
          "text": [
            "[0]\n"
          ],
          "output_type": "stream"
        },
        {
          "name": "stderr",
          "text": [
            "/Users/chenyahui/dook_python/venv/lib/python2.7/site-packages/sklearn/svm/base.py:196: FutureWarning: The default value of gamma will change from \u0027auto\u0027 to \u0027scale\u0027 in version 0.22 to account better for unscaled features. Set gamma explicitly to \u0027auto\u0027 or \u0027scale\u0027 to avoid this warning.\n  \"avoid this warning.\", FutureWarning)\n"
          ],
          "output_type": "stream"
        }
      ],
      "source": "from sklearn import svm\nfrom sklearn import datasets\nclf \u003d svm.SVC()\niris \u003d datasets.load_iris()\nX, y \u003d iris.data, iris.target\nclf.fit(X, y)  \n\nimport pickle\ns \u003d pickle.dumps(clf)\nclf2 \u003d pickle.loads(s)\nclf2.predict(X[0:1])\ny[0]\n\nfrom sklearn.externals import joblib\njoblib.dump(clf, \u0027filename.pkl\u0027) \nclf \u003d joblib.load(\u0027filename.pkl\u0027) \ns2\u003dclf.predict(X[0:1])\nprint s2\n\n",
      "metadata": {
        "pycharm": {
          "metadata": false,
          "name": "#%% 模型持久化\n",
          "is_executing": false
        }
      }
    },
    {
      "cell_type": "code",
      "execution_count": 10,
      "outputs": [
        {
          "name": "stdout",
          "text": [
            "float32\nfloat64\n"
          ],
          "output_type": "stream"
        },
        {
          "data": {
            "text/plain": "[\u0027setosa\u0027, \u0027setosa\u0027, \u0027setosa\u0027]"
          },
          "metadata": {},
          "output_type": "execute_result",
          "execution_count": 10
        }
      ],
      "source": "import numpy as np\nfrom sklearn import random_projection\n\nrng \u003d np.random.RandomState(0)\nX \u003d rng.rand(10, 2000)\nX \u003d np.array(X, dtype\u003d\u0027float32\u0027)\ns1\u003dX.dtype\nprint s1\n\ntransformer \u003d random_projection.GaussianRandomProjection()\nX_new \u003d transformer.fit_transform(X)\ns2\u003dX_new.dtype\nprint s2\n\nfrom sklearn import datasets\nfrom sklearn.svm import SVC\niris \u003d datasets.load_iris()\nclf \u003d SVC()\nclf.fit(iris.data, iris.target)  \nlist(clf.predict(iris.data[:3]))\n\nclf.fit(iris.data, iris.target_names[iris.target])  \nlist(clf.predict(iris.data[:3]))  \n",
      "metadata": {
        "pycharm": {
          "metadata": false,
          "name": "#%%类型转换\n",
          "is_executing": false
        }
      }
    },
    {
      "cell_type": "code",
      "execution_count": 2,
      "outputs": [
        {
          "ename": "SyntaxError",
          "evalue": "invalid syntax (set_color.py, line 27)",
          "traceback": [
            "\u001b[0;36m  File \u001b[0;32m\"/Users/chenyahui/dook_python/venv/lib/python2.7/site-packages/plot/io/input/postprocessing/set_color.py\"\u001b[0;36m, line \u001b[0;32m27\u001b[0m\n\u001b[0;31m    def get_color(i: int, panel_id: list):\u001b[0m\n\u001b[0m                   ^\u001b[0m\n\u001b[0;31mSyntaxError\u001b[0m\u001b[0;31m:\u001b[0m invalid syntax\n"
          ],
          "output_type": "error"
        }
      ],
      "source": "import numpy as np\nfrom sklearn.svm import SVC\n\nrng \u003d np.random.RandomState(0)\nX \u003d rng.rand(100, 10)\ny \u003d rng.binomial(1, 0.5, 100)\nX_test \u003d rng.rand(5, 10)\n\nclf \u003d SVC()\nclf.set_params(kernel\u003d\u0027linear\u0027).fit(X, y)  \nclf.predict(X_test)\n# array([1, 0, 1, 1, 0])\n\nclf.set_params(kernel\u003d\u0027rbf\u0027).fit(X, y)  \nclf.predict(X_test)\n# array([0, 0, 0, 1, 0])\n",
      "metadata": {
        "pycharm": {
          "metadata": false,
          "name": "#%%再次训练和更新参数\n",
          "is_executing": false
        }
      }
    },
    {
      "cell_type": "code",
      "execution_count": 11,
      "outputs": [],
      "source": "from sklearn.svm import SVC\nfrom sklearn.multiclass import OneVsRestClassifier\nfrom sklearn.preprocessing import LabelBinarizer\n\nX \u003d [[1, 2], [2, 4], [4, 5], [3, 2], [3, 1]]\ny \u003d [0, 0, 1, 1, 2]\nclassif \u003d OneVsRestClassifier(estimator\u003dSVC(random_state\u003d0))\nclassif.fit(X, y).predict(X)\n# array([0, 0, 1, 1, 2])\ny \u003d LabelBinarizer().fit_transform(y)\ns2\u003dclassif.fit(X, y).predict(X)\nprint s2\n\n",
      "metadata": {
        "pycharm": {
          "metadata": false,
          "name": "#%% 多分类与多标签拟合\n",
          "is_executing": false
        }
      }
    },
    {
      "cell_type": "code",
      "execution_count": 1,
      "outputs": [
        {
          "ename": "NameError",
          "evalue": "name \u0027datasets\u0027 is not defined",
          "traceback": [
            "\u001b[0;31m\u001b[0m",
            "\u001b[0;31mNameError\u001b[0mTraceback (most recent call last)",
            "\u001b[0;32m\u003cipython-input-1-52ed87cddfd6\u003e\u001b[0m in \u001b[0;36m\u003cmodule\u003e\u001b[0;34m()\u001b[0m\n\u001b[0;32m----\u003e 1\u001b[0;31m \u001b[0mdiabetes\u001b[0m \u001b[0;34m\u003d\u001b[0m \u001b[0mdatasets\u001b[0m\u001b[0;34m.\u001b[0m\u001b[0mload_diabetes\u001b[0m\u001b[0;34m(\u001b[0m\u001b[0;34m)\u001b[0m\u001b[0;34m\u001b[0m\u001b[0m\n\u001b[0m\u001b[1;32m      2\u001b[0m \u001b[0mdiabetes_X_train\u001b[0m \u001b[0;34m\u003d\u001b[0m \u001b[0mdiabetes\u001b[0m\u001b[0;34m.\u001b[0m\u001b[0mdata\u001b[0m\u001b[0;34m[\u001b[0m\u001b[0;34m:\u001b[0m\u001b[0;34m-\u001b[0m\u001b[0;36m20\u001b[0m\u001b[0;34m]\u001b[0m\u001b[0;34m\u001b[0m\u001b[0m\n\u001b[1;32m      3\u001b[0m \u001b[0mdiabetes_X_test\u001b[0m  \u001b[0;34m\u003d\u001b[0m \u001b[0mdiabetes\u001b[0m\u001b[0;34m.\u001b[0m\u001b[0mdata\u001b[0m\u001b[0;34m[\u001b[0m\u001b[0;34m-\u001b[0m\u001b[0;36m20\u001b[0m\u001b[0;34m:\u001b[0m\u001b[0;34m]\u001b[0m\u001b[0;34m\u001b[0m\u001b[0m\n\u001b[1;32m      4\u001b[0m \u001b[0mdiabetes_y_train\u001b[0m \u001b[0;34m\u003d\u001b[0m \u001b[0mdiabetes\u001b[0m\u001b[0;34m.\u001b[0m\u001b[0mtarget\u001b[0m\u001b[0;34m[\u001b[0m\u001b[0;34m:\u001b[0m\u001b[0;34m-\u001b[0m\u001b[0;36m20\u001b[0m\u001b[0;34m]\u001b[0m\u001b[0;34m\u001b[0m\u001b[0m\n\u001b[1;32m      5\u001b[0m \u001b[0mdiabetes_y_test\u001b[0m  \u001b[0;34m\u003d\u001b[0m \u001b[0mdiabetes\u001b[0m\u001b[0;34m.\u001b[0m\u001b[0mtarget\u001b[0m\u001b[0;34m[\u001b[0m\u001b[0;34m-\u001b[0m\u001b[0;36m20\u001b[0m\u001b[0;34m:\u001b[0m\u001b[0;34m]\u001b[0m\u001b[0;34m\u001b[0m\u001b[0m\n",
            "\u001b[0;31mNameError\u001b[0m: name \u0027datasets\u0027 is not defined"
          ],
          "output_type": "error"
        }
      ],
      "source": "diabetes \u003d datasets.load_diabetes()\ndiabetes_X_train \u003d diabetes.data[:-20]\ndiabetes_X_test  \u003d diabetes.data[-20:]\ndiabetes_y_train \u003d diabetes.target[:-20]\ndiabetes_y_test  \u003d diabetes.target[-20:]\n\nfrom sklearn import linear_model\nregr \u003d linear_model.LinearRegression()\nregr.fit(diabetes_X_train, diabetes_y_train)\n# LinearRegression(copy_X\u003dTrue, fit_intercept\u003dTrue, n_jobs\u003d1, normalize\u003dFalse)\nprint(regr.coef_)\n# [   0.30349955 -237.63931533  510.53060544  327.73698041 -814.13170937\n#  492.81458798  102.84845219  184.60648906  743.51961675   76.09517222]\n\n# 均方误差\nnp.mean((regr.predict(diabetes_X_test)-diabetes_y_test)**2)\n# 2004.56760268...\n\n# 方差分数：1 是完美的预测\n# 0 意味着 X 和 y 之间没有线性关系。\nregr.score(diabetes_X_test, diabetes_y_test) \n# 0.5850753022690...",
      "metadata": {
        "pycharm": {
          "metadata": false,
          "name": "#%%\n",
          "is_executing": false
        }
      }
    }
  ],
  "metadata": {
    "language_info": {
      "codemirror_mode": {
        "name": "ipython",
        "version": 2
      },
      "file_extension": ".py",
      "mimetype": "text/x-python",
      "name": "python",
      "nbconvert_exporter": "python",
      "pygments_lexer": "ipython2",
      "version": "2.7.6"
    },
    "kernelspec": {
      "name": "python2",
      "language": "python",
      "display_name": "Python 2"
    }
  },
  "nbformat": 4,
  "nbformat_minor": 0
}